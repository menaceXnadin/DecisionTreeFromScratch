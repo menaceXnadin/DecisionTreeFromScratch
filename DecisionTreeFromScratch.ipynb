{
 "cells": [
  {
   "cell_type": "markdown",
   "metadata": {
    "id": "3rglr7mHnSlF"
   },
   "source": [
    "# Decision Tree from scratch"
   ]
  },
  {
   "cell_type": "markdown",
   "metadata": {},
   "source": [
    "## Import Libraries\n",
    "Let's bring in the tools we need to build our decision tree!"
   ]
  },
  {
   "cell_type": "code",
   "execution_count": null,
   "metadata": {
    "id": "UJD9Cc-p68Az"
   },
   "outputs": [],
   "source": [
    "import numpy as np\n",
    "import pandas as pd\n",
    "from collections import Counter"
   ]
  },
  {
   "cell_type": "markdown",
   "metadata": {},
   "source": [
    "## Create Sample Data\n",
    "Here's our fun dataset about people's preferences - we want to predict if they'll love the movie \"Cool As Ice\"!"
   ]
  },
  {
   "cell_type": "code",
   "execution_count": null,
   "metadata": {
    "id": "6SCk1fsp7DpB"
   },
   "outputs": [],
   "source": [
    "data = {\n",
    "    'Loves Popcorn': ['Yes', 'Yes', 'No', 'No', 'Yes', 'Yes', 'No'],\n",
    "    'Loves Soda': ['Yes', 'No', 'Yes', 'Yes', 'Yes', 'No', 'No'],\n",
    "    'Age': [7, 12, 18, 35, 38, 50, 83],\n",
    "    'Loves Cool As Ice': ['No', 'No', 'Yes', 'Yes', 'Yes', 'No', 'No']\n",
    "}\n"
   ]
  },
  {
   "cell_type": "markdown",
   "metadata": {},
   "source": [
    "## Display the Data\n",
    "Let's see what our data looks like in a nice table!"
   ]
  },
  {
   "cell_type": "code",
   "execution_count": null,
   "metadata": {
    "colab": {
     "base_uri": "https://localhost:8080/",
     "height": 268
    },
    "id": "mYO82guo7RVo",
    "outputId": "5e37f938-d1be-4e50-bdb1-360115099ce9"
   },
   "outputs": [
    {
     "data": {
      "application/vnd.google.colaboratory.intrinsic+json": {
       "summary": "{\n  \"name\": \"df\",\n  \"rows\": 7,\n  \"fields\": [\n    {\n      \"column\": \"Loves Popcorn\",\n      \"properties\": {\n        \"dtype\": \"category\",\n        \"num_unique_values\": 2,\n        \"samples\": [\n          \"No\",\n          \"Yes\"\n        ],\n        \"semantic_type\": \"\",\n        \"description\": \"\"\n      }\n    },\n    {\n      \"column\": \"Loves Soda\",\n      \"properties\": {\n        \"dtype\": \"category\",\n        \"num_unique_values\": 2,\n        \"samples\": [\n          \"No\",\n          \"Yes\"\n        ],\n        \"semantic_type\": \"\",\n        \"description\": \"\"\n      }\n    },\n    {\n      \"column\": \"Age\",\n      \"properties\": {\n        \"dtype\": \"number\",\n        \"std\": 26,\n        \"min\": 7,\n        \"max\": 83,\n        \"num_unique_values\": 7,\n        \"samples\": [\n          7,\n          12\n        ],\n        \"semantic_type\": \"\",\n        \"description\": \"\"\n      }\n    },\n    {\n      \"column\": \"Loves Cool As Ice\",\n      \"properties\": {\n        \"dtype\": \"category\",\n        \"num_unique_values\": 2,\n        \"samples\": [\n          \"Yes\",\n          \"No\"\n        ],\n        \"semantic_type\": \"\",\n        \"description\": \"\"\n      }\n    }\n  ]\n}",
       "type": "dataframe",
       "variable_name": "df"
      },
      "text/html": [
       "\n",
       "  <div id=\"df-27406184-ea78-4bc9-aff7-ef696d2a7204\" class=\"colab-df-container\">\n",
       "    <div>\n",
       "<style scoped>\n",
       "    .dataframe tbody tr th:only-of-type {\n",
       "        vertical-align: middle;\n",
       "    }\n",
       "\n",
       "    .dataframe tbody tr th {\n",
       "        vertical-align: top;\n",
       "    }\n",
       "\n",
       "    .dataframe thead th {\n",
       "        text-align: right;\n",
       "    }\n",
       "</style>\n",
       "<table border=\"1\" class=\"dataframe\">\n",
       "  <thead>\n",
       "    <tr style=\"text-align: right;\">\n",
       "      <th></th>\n",
       "      <th>Loves Popcorn</th>\n",
       "      <th>Loves Soda</th>\n",
       "      <th>Age</th>\n",
       "      <th>Loves Cool As Ice</th>\n",
       "    </tr>\n",
       "  </thead>\n",
       "  <tbody>\n",
       "    <tr>\n",
       "      <th>0</th>\n",
       "      <td>Yes</td>\n",
       "      <td>Yes</td>\n",
       "      <td>7</td>\n",
       "      <td>No</td>\n",
       "    </tr>\n",
       "    <tr>\n",
       "      <th>1</th>\n",
       "      <td>Yes</td>\n",
       "      <td>No</td>\n",
       "      <td>12</td>\n",
       "      <td>No</td>\n",
       "    </tr>\n",
       "    <tr>\n",
       "      <th>2</th>\n",
       "      <td>No</td>\n",
       "      <td>Yes</td>\n",
       "      <td>18</td>\n",
       "      <td>Yes</td>\n",
       "    </tr>\n",
       "    <tr>\n",
       "      <th>3</th>\n",
       "      <td>No</td>\n",
       "      <td>Yes</td>\n",
       "      <td>35</td>\n",
       "      <td>Yes</td>\n",
       "    </tr>\n",
       "    <tr>\n",
       "      <th>4</th>\n",
       "      <td>Yes</td>\n",
       "      <td>Yes</td>\n",
       "      <td>38</td>\n",
       "      <td>Yes</td>\n",
       "    </tr>\n",
       "    <tr>\n",
       "      <th>5</th>\n",
       "      <td>Yes</td>\n",
       "      <td>No</td>\n",
       "      <td>50</td>\n",
       "      <td>No</td>\n",
       "    </tr>\n",
       "    <tr>\n",
       "      <th>6</th>\n",
       "      <td>No</td>\n",
       "      <td>No</td>\n",
       "      <td>83</td>\n",
       "      <td>No</td>\n",
       "    </tr>\n",
       "  </tbody>\n",
       "</table>\n",
       "</div>\n",
       "    <div class=\"colab-df-buttons\">\n",
       "\n",
       "  <div class=\"colab-df-container\">\n",
       "    <button class=\"colab-df-convert\" onclick=\"convertToInteractive('df-27406184-ea78-4bc9-aff7-ef696d2a7204')\"\n",
       "            title=\"Convert this dataframe to an interactive table.\"\n",
       "            style=\"display:none;\">\n",
       "\n",
       "  <svg xmlns=\"http://www.w3.org/2000/svg\" height=\"24px\" viewBox=\"0 -960 960 960\">\n",
       "    <path d=\"M120-120v-720h720v720H120Zm60-500h600v-160H180v160Zm220 220h160v-160H400v160Zm0 220h160v-160H400v160ZM180-400h160v-160H180v160Zm440 0h160v-160H620v160ZM180-180h160v-160H180v160Zm440 0h160v-160H620v160Z\"/>\n",
       "  </svg>\n",
       "    </button>\n",
       "\n",
       "  <style>\n",
       "    .colab-df-container {\n",
       "      display:flex;\n",
       "      gap: 12px;\n",
       "    }\n",
       "\n",
       "    .colab-df-convert {\n",
       "      background-color: #E8F0FE;\n",
       "      border: none;\n",
       "      border-radius: 50%;\n",
       "      cursor: pointer;\n",
       "      display: none;\n",
       "      fill: #1967D2;\n",
       "      height: 32px;\n",
       "      padding: 0 0 0 0;\n",
       "      width: 32px;\n",
       "    }\n",
       "\n",
       "    .colab-df-convert:hover {\n",
       "      background-color: #E2EBFA;\n",
       "      box-shadow: 0px 1px 2px rgba(60, 64, 67, 0.3), 0px 1px 3px 1px rgba(60, 64, 67, 0.15);\n",
       "      fill: #174EA6;\n",
       "    }\n",
       "\n",
       "    .colab-df-buttons div {\n",
       "      margin-bottom: 4px;\n",
       "    }\n",
       "\n",
       "    [theme=dark] .colab-df-convert {\n",
       "      background-color: #3B4455;\n",
       "      fill: #D2E3FC;\n",
       "    }\n",
       "\n",
       "    [theme=dark] .colab-df-convert:hover {\n",
       "      background-color: #434B5C;\n",
       "      box-shadow: 0px 1px 3px 1px rgba(0, 0, 0, 0.15);\n",
       "      filter: drop-shadow(0px 1px 2px rgba(0, 0, 0, 0.3));\n",
       "      fill: #FFFFFF;\n",
       "    }\n",
       "  </style>\n",
       "\n",
       "    <script>\n",
       "      const buttonEl =\n",
       "        document.querySelector('#df-27406184-ea78-4bc9-aff7-ef696d2a7204 button.colab-df-convert');\n",
       "      buttonEl.style.display =\n",
       "        google.colab.kernel.accessAllowed ? 'block' : 'none';\n",
       "\n",
       "      async function convertToInteractive(key) {\n",
       "        const element = document.querySelector('#df-27406184-ea78-4bc9-aff7-ef696d2a7204');\n",
       "        const dataTable =\n",
       "          await google.colab.kernel.invokeFunction('convertToInteractive',\n",
       "                                                    [key], {});\n",
       "        if (!dataTable) return;\n",
       "\n",
       "        const docLinkHtml = 'Like what you see? Visit the ' +\n",
       "          '<a target=\"_blank\" href=https://colab.research.google.com/notebooks/data_table.ipynb>data table notebook</a>'\n",
       "          + ' to learn more about interactive tables.';\n",
       "        element.innerHTML = '';\n",
       "        dataTable['output_type'] = 'display_data';\n",
       "        await google.colab.output.renderOutput(dataTable, element);\n",
       "        const docLink = document.createElement('div');\n",
       "        docLink.innerHTML = docLinkHtml;\n",
       "        element.appendChild(docLink);\n",
       "      }\n",
       "    </script>\n",
       "  </div>\n",
       "\n",
       "\n",
       "    <div id=\"df-1fc437dc-3a0e-496b-b2bd-da5e25c6c9e5\">\n",
       "      <button class=\"colab-df-quickchart\" onclick=\"quickchart('df-1fc437dc-3a0e-496b-b2bd-da5e25c6c9e5')\"\n",
       "                title=\"Suggest charts\"\n",
       "                style=\"display:none;\">\n",
       "\n",
       "<svg xmlns=\"http://www.w3.org/2000/svg\" height=\"24px\"viewBox=\"0 0 24 24\"\n",
       "     width=\"24px\">\n",
       "    <g>\n",
       "        <path d=\"M19 3H5c-1.1 0-2 .9-2 2v14c0 1.1.9 2 2 2h14c1.1 0 2-.9 2-2V5c0-1.1-.9-2-2-2zM9 17H7v-7h2v7zm4 0h-2V7h2v10zm4 0h-2v-4h2v4z\"/>\n",
       "    </g>\n",
       "</svg>\n",
       "      </button>\n",
       "\n",
       "<style>\n",
       "  .colab-df-quickchart {\n",
       "      --bg-color: #E8F0FE;\n",
       "      --fill-color: #1967D2;\n",
       "      --hover-bg-color: #E2EBFA;\n",
       "      --hover-fill-color: #174EA6;\n",
       "      --disabled-fill-color: #AAA;\n",
       "      --disabled-bg-color: #DDD;\n",
       "  }\n",
       "\n",
       "  [theme=dark] .colab-df-quickchart {\n",
       "      --bg-color: #3B4455;\n",
       "      --fill-color: #D2E3FC;\n",
       "      --hover-bg-color: #434B5C;\n",
       "      --hover-fill-color: #FFFFFF;\n",
       "      --disabled-bg-color: #3B4455;\n",
       "      --disabled-fill-color: #666;\n",
       "  }\n",
       "\n",
       "  .colab-df-quickchart {\n",
       "    background-color: var(--bg-color);\n",
       "    border: none;\n",
       "    border-radius: 50%;\n",
       "    cursor: pointer;\n",
       "    display: none;\n",
       "    fill: var(--fill-color);\n",
       "    height: 32px;\n",
       "    padding: 0;\n",
       "    width: 32px;\n",
       "  }\n",
       "\n",
       "  .colab-df-quickchart:hover {\n",
       "    background-color: var(--hover-bg-color);\n",
       "    box-shadow: 0 1px 2px rgba(60, 64, 67, 0.3), 0 1px 3px 1px rgba(60, 64, 67, 0.15);\n",
       "    fill: var(--button-hover-fill-color);\n",
       "  }\n",
       "\n",
       "  .colab-df-quickchart-complete:disabled,\n",
       "  .colab-df-quickchart-complete:disabled:hover {\n",
       "    background-color: var(--disabled-bg-color);\n",
       "    fill: var(--disabled-fill-color);\n",
       "    box-shadow: none;\n",
       "  }\n",
       "\n",
       "  .colab-df-spinner {\n",
       "    border: 2px solid var(--fill-color);\n",
       "    border-color: transparent;\n",
       "    border-bottom-color: var(--fill-color);\n",
       "    animation:\n",
       "      spin 1s steps(1) infinite;\n",
       "  }\n",
       "\n",
       "  @keyframes spin {\n",
       "    0% {\n",
       "      border-color: transparent;\n",
       "      border-bottom-color: var(--fill-color);\n",
       "      border-left-color: var(--fill-color);\n",
       "    }\n",
       "    20% {\n",
       "      border-color: transparent;\n",
       "      border-left-color: var(--fill-color);\n",
       "      border-top-color: var(--fill-color);\n",
       "    }\n",
       "    30% {\n",
       "      border-color: transparent;\n",
       "      border-left-color: var(--fill-color);\n",
       "      border-top-color: var(--fill-color);\n",
       "      border-right-color: var(--fill-color);\n",
       "    }\n",
       "    40% {\n",
       "      border-color: transparent;\n",
       "      border-right-color: var(--fill-color);\n",
       "      border-top-color: var(--fill-color);\n",
       "    }\n",
       "    60% {\n",
       "      border-color: transparent;\n",
       "      border-right-color: var(--fill-color);\n",
       "    }\n",
       "    80% {\n",
       "      border-color: transparent;\n",
       "      border-right-color: var(--fill-color);\n",
       "      border-bottom-color: var(--fill-color);\n",
       "    }\n",
       "    90% {\n",
       "      border-color: transparent;\n",
       "      border-bottom-color: var(--fill-color);\n",
       "    }\n",
       "  }\n",
       "</style>\n",
       "\n",
       "      <script>\n",
       "        async function quickchart(key) {\n",
       "          const quickchartButtonEl =\n",
       "            document.querySelector('#' + key + ' button');\n",
       "          quickchartButtonEl.disabled = true;  // To prevent multiple clicks.\n",
       "          quickchartButtonEl.classList.add('colab-df-spinner');\n",
       "          try {\n",
       "            const charts = await google.colab.kernel.invokeFunction(\n",
       "                'suggestCharts', [key], {});\n",
       "          } catch (error) {\n",
       "            console.error('Error during call to suggestCharts:', error);\n",
       "          }\n",
       "          quickchartButtonEl.classList.remove('colab-df-spinner');\n",
       "          quickchartButtonEl.classList.add('colab-df-quickchart-complete');\n",
       "        }\n",
       "        (() => {\n",
       "          let quickchartButtonEl =\n",
       "            document.querySelector('#df-1fc437dc-3a0e-496b-b2bd-da5e25c6c9e5 button');\n",
       "          quickchartButtonEl.style.display =\n",
       "            google.colab.kernel.accessAllowed ? 'block' : 'none';\n",
       "        })();\n",
       "      </script>\n",
       "    </div>\n",
       "\n",
       "  <div id=\"id_acabb1ff-d404-4c21-bee3-edeaa18c3533\">\n",
       "    <style>\n",
       "      .colab-df-generate {\n",
       "        background-color: #E8F0FE;\n",
       "        border: none;\n",
       "        border-radius: 50%;\n",
       "        cursor: pointer;\n",
       "        display: none;\n",
       "        fill: #1967D2;\n",
       "        height: 32px;\n",
       "        padding: 0 0 0 0;\n",
       "        width: 32px;\n",
       "      }\n",
       "\n",
       "      .colab-df-generate:hover {\n",
       "        background-color: #E2EBFA;\n",
       "        box-shadow: 0px 1px 2px rgba(60, 64, 67, 0.3), 0px 1px 3px 1px rgba(60, 64, 67, 0.15);\n",
       "        fill: #174EA6;\n",
       "      }\n",
       "\n",
       "      [theme=dark] .colab-df-generate {\n",
       "        background-color: #3B4455;\n",
       "        fill: #D2E3FC;\n",
       "      }\n",
       "\n",
       "      [theme=dark] .colab-df-generate:hover {\n",
       "        background-color: #434B5C;\n",
       "        box-shadow: 0px 1px 3px 1px rgba(0, 0, 0, 0.15);\n",
       "        filter: drop-shadow(0px 1px 2px rgba(0, 0, 0, 0.3));\n",
       "        fill: #FFFFFF;\n",
       "      }\n",
       "    </style>\n",
       "    <button class=\"colab-df-generate\" onclick=\"generateWithVariable('df')\"\n",
       "            title=\"Generate code using this dataframe.\"\n",
       "            style=\"display:none;\">\n",
       "\n",
       "  <svg xmlns=\"http://www.w3.org/2000/svg\" height=\"24px\"viewBox=\"0 0 24 24\"\n",
       "       width=\"24px\">\n",
       "    <path d=\"M7,19H8.4L18.45,9,17,7.55,7,17.6ZM5,21V16.75L18.45,3.32a2,2,0,0,1,2.83,0l1.4,1.43a1.91,1.91,0,0,1,.58,1.4,1.91,1.91,0,0,1-.58,1.4L9.25,21ZM18.45,9,17,7.55Zm-12,3A5.31,5.31,0,0,0,4.9,8.1,5.31,5.31,0,0,0,1,6.5,5.31,5.31,0,0,0,4.9,4.9,5.31,5.31,0,0,0,6.5,1,5.31,5.31,0,0,0,8.1,4.9,5.31,5.31,0,0,0,12,6.5,5.46,5.46,0,0,0,6.5,12Z\"/>\n",
       "  </svg>\n",
       "    </button>\n",
       "    <script>\n",
       "      (() => {\n",
       "      const buttonEl =\n",
       "        document.querySelector('#id_acabb1ff-d404-4c21-bee3-edeaa18c3533 button.colab-df-generate');\n",
       "      buttonEl.style.display =\n",
       "        google.colab.kernel.accessAllowed ? 'block' : 'none';\n",
       "\n",
       "      buttonEl.onclick = () => {\n",
       "        google.colab.notebook.generateWithVariable('df');\n",
       "      }\n",
       "      })();\n",
       "    </script>\n",
       "  </div>\n",
       "\n",
       "    </div>\n",
       "  </div>\n"
      ],
      "text/plain": [
       "  Loves Popcorn Loves Soda  Age Loves Cool As Ice\n",
       "0           Yes        Yes    7                No\n",
       "1           Yes         No   12                No\n",
       "2            No        Yes   18               Yes\n",
       "3            No        Yes   35               Yes\n",
       "4           Yes        Yes   38               Yes\n",
       "5           Yes         No   50                No\n",
       "6            No         No   83                No"
      ]
     },
     "execution_count": 115,
     "metadata": {},
     "output_type": "execute_result"
    }
   ],
   "source": [
    "df = pd.DataFrame(data)\n",
    "df"
   ]
  },
  {
   "cell_type": "markdown",
   "metadata": {},
   "source": [
    "## Gini Impurity Function\n",
    "This measures how \"mixed up\" a group is. Pure groups (all same answer) = 0, mixed groups = higher numbers."
   ]
  },
  {
   "cell_type": "code",
   "execution_count": null,
   "metadata": {
    "id": "Js-U7VOO7eoX"
   },
   "outputs": [],
   "source": [
    "def gini(labels):\n",
    "  total = len(labels)\n",
    "  if total ==0:\n",
    "    return 0\n",
    "  impurity = 1\n",
    "  unique_labels = set(labels)\n",
    "  for label in unique_labels:\n",
    "    p = labels.count(label)/total\n",
    "    impurity -= p**2\n",
    "  return impurity"
   ]
  },
  {
   "cell_type": "markdown",
   "metadata": {},
   "source": [
    "## Split Data Function\n",
    "This divides our data into two groups based on a question (like \"Do you love popcorn?\")."
   ]
  },
  {
   "cell_type": "code",
   "execution_count": null,
   "metadata": {
    "id": "b_BQszCC78NA"
   },
   "outputs": [],
   "source": [
    "def split_data_set(dataset,feature,value):\n",
    "  left=[]\n",
    "  right=[]\n",
    "  for index,row in dataset.iterrows():\n",
    "    if row[feature] == value:\n",
    "      left.append(row)\n",
    "    else:\n",
    "      right.append(row)\n",
    "  return left,right\n",
    "\n"
   ]
  },
  {
   "cell_type": "markdown",
   "metadata": {},
   "source": [
    "## Weighted Gini Score\n",
    "This tells us how good a split is by looking at both groups together. Lower scores = better splits!"
   ]
  },
  {
   "cell_type": "code",
   "execution_count": null,
   "metadata": {
    "id": "nuIk3p8b9np_"
   },
   "outputs": [],
   "source": [
    "def weighted_gini(left,right,label_name):\n",
    "  if isinstance(left, pd.DataFrame) and isinstance(right, pd.DataFrame):\n",
    "    # if they are df's, extract the labels directly from the specified column\n",
    "    # .tolist() converts the pandas Series (the column) into a Python list\n",
    "    left_labels = left[label_name].tolist()\n",
    "    right_labels= right[label_name].tolist()\n",
    "  else:\n",
    "    # if they are not DataFrames then assume they are lists of rows\n",
    "    # this handles the case where split_data_set was used\n",
    "    left_labels = [row[label_name] for row in left]\n",
    "    right_labels= [row[label_name] for row in right]\n",
    "  gi_left = gini(left_labels)\n",
    "  gi_right = gini(right_labels)\n",
    "\n",
    "  total=len(left_labels)+len(right_labels)\n",
    "  return round((len(left_labels)/total)*gi_left + (len(right_labels)/total)*gi_right,3)\n",
    "\n"
   ]
  },
  {
   "cell_type": "markdown",
   "metadata": {},
   "source": [
    "## Helper Functions\n",
    "These help us work with numbers (like age) by finding good cutoff points to split on."
   ]
  },
  {
   "cell_type": "code",
   "execution_count": null,
   "metadata": {
    "id": "9V-D-freaUCP"
   },
   "outputs": [],
   "source": [
    "def is_numeric(series):\n",
    "    return pd.api.types.is_numeric_dtype(series)\n",
    "\n",
    "def get_thresholds(column):\n",
    "    values = sorted(column.unique())\n",
    "    # print([(values[i] + values[i+1])/2 for i in range(len(values)-1)])\n",
    "    return [(values[i] + values[i+1])/2 for i in range(len(values)-1)]\n"
   ]
  },
  {
   "cell_type": "markdown",
   "metadata": {
    "id": "uwG0rvICOM93"
   },
   "source": [
    "# Finding the best split\n"
   ]
  },
  {
   "cell_type": "markdown",
   "metadata": {},
   "source": [
    "## Find the Best Question\n",
    "This tries all possible questions and picks the one that creates the purest groups!"
   ]
  },
  {
   "cell_type": "code",
   "execution_count": null,
   "metadata": {
    "id": "oQoz_3ICOPXF"
   },
   "outputs": [],
   "source": [
    "def find_best_split(dataset, label_name):\n",
    "    best_gini = 1\n",
    "    best_feature = None\n",
    "    best_value = None\n",
    "    best_groups = None\n",
    "    features = [col for col in dataset.columns if col != label_name]\n",
    "\n",
    "    for feature in features:\n",
    "        if is_numeric(dataset[feature]):\n",
    "            thresholds = get_thresholds(dataset[feature])\n",
    "            for threshold in thresholds:\n",
    "                left = dataset[dataset[feature] <= threshold]\n",
    "                right = dataset[dataset[feature] > threshold]\n",
    "                gini_score = weighted_gini(left, right, label_name)\n",
    "                print(f\"Feature: {feature}, Threshold: {threshold}, Gini: {gini_score}\")\n",
    "                if gini_score < best_gini:\n",
    "                    best_gini = gini_score\n",
    "                    best_feature = feature\n",
    "                    best_value = threshold\n",
    "                    best_groups = (left, right)\n",
    "        else:\n",
    "            values = set(dataset[feature])\n",
    "            for value in values:\n",
    "                left = dataset[dataset[feature] == value]\n",
    "                right = dataset[dataset[feature] != value]\n",
    "                if left.empty or right.empty:\n",
    "                    continue\n",
    "                gini_score = weighted_gini(left, right, label_name)\n",
    "                if gini_score < best_gini:\n",
    "                    best_gini = gini_score\n",
    "                    best_feature = feature\n",
    "                    best_value = value\n",
    "                    best_groups = (left, right)\n",
    "\n",
    "    return best_feature, best_value, best_groups\n"
   ]
  },
  {
   "cell_type": "markdown",
   "metadata": {
    "id": "QrueQJKPV5Eq"
   },
   "source": [
    "# Recursion for building the decision tree"
   ]
  },
  {
   "cell_type": "markdown",
   "metadata": {},
   "source": [
    "## Build the Decision Tree\n",
    "This is the main function that creates our tree by asking questions and making branches!"
   ]
  },
  {
   "cell_type": "code",
   "execution_count": null,
   "metadata": {
    "id": "KJh1okaIV-WI"
   },
   "outputs": [],
   "source": [
    "def build_tree(dataset, label_name, depth=0, max_depth=5):\n",
    "    # if dataset is pure or empty then return a leaf\n",
    "    labels = dataset[label_name].tolist()\n",
    "    if len(set(labels)) == 1 or len(dataset) == 0:\n",
    "        return {'type': 'leaf', 'class': majority_class(labels)}\n",
    "\n",
    "    #  stopping based on depth\n",
    "    if depth >= max_depth:\n",
    "        return {'type': 'leaf', 'class': majority_class(labels)}\n",
    "\n",
    "    #find the best split\n",
    "    best_feature, best_value, best_groups = find_best_split(dataset, label_name)\n",
    "\n",
    "    if best_feature is None or best_groups is None:\n",
    "        return {'type': 'leaf', 'class': majority_class(labels)}\n",
    "\n",
    "    left_group, right_group = best_groups\n",
    "\n",
    "    # recursively build left and right branches\n",
    "    left_branch = build_tree(left_group, label_name, depth + 1, max_depth)\n",
    "    right_branch = build_tree(right_group, label_name, depth + 1, max_depth)\n",
    "\n",
    "    # return a decision node\n",
    "    return {\n",
    "        'type': 'node',\n",
    "        'feature': best_feature,\n",
    "        'value': best_value,\n",
    "        'left': left_branch,\n",
    "        'right': right_branch\n",
    "    }\n"
   ]
  },
  {
   "cell_type": "code",
   "execution_count": null,
   "metadata": {
    "id": "uepk6-ZMiP-p"
   },
   "outputs": [],
   "source": [
    "def majority_class(labels):\n",
    "    return Counter(labels).most_common(1)[0][0]\n"
   ]
  },
  {
   "cell_type": "markdown",
   "metadata": {},
   "source": [
    "## Find Most Common Answer\n",
    "When we can't split anymore, this picks the most common answer in the group."
   ]
  },
  {
   "cell_type": "code",
   "execution_count": null,
   "metadata": {
    "colab": {
     "base_uri": "https://localhost:8080/"
    },
    "id": "a_scJInUi4fE",
    "outputId": "b2b56ab0-1aec-4a89-a03f-0388c6c0a00b"
   },
   "outputs": [
    {
     "name": "stdout",
     "output_type": "stream",
     "text": [
      "[np.float64(9.5), np.float64(15.0), np.float64(26.5), np.float64(36.5), np.float64(44.0), np.float64(66.5)]\n",
      "Feature: Age, Threshold: 9.5, Gini: 0.429\n",
      "Feature: Age, Threshold: 15.0, Gini: 0.343\n",
      "Feature: Age, Threshold: 26.5, Gini: 0.476\n",
      "Feature: Age, Threshold: 36.5, Gini: 0.476\n",
      "Feature: Age, Threshold: 44.0, Gini: 0.343\n",
      "Feature: Age, Threshold: 66.5, Gini: 0.429\n",
      "[np.float64(12.5), np.float64(26.5), np.float64(36.5)]\n",
      "Feature: Age, Threshold: 12.5, Gini: 0.0\n",
      "Feature: Age, Threshold: 26.5, Gini: 0.25\n",
      "Feature: Age, Threshold: 36.5, Gini: 0.333\n",
      "{'type': 'node', 'feature': 'Loves Soda', 'value': 'No', 'left': {'type': 'leaf', 'class': 'No'}, 'right': {'type': 'node', 'feature': 'Age', 'value': np.float64(12.5), 'left': {'type': 'leaf', 'class': 'No'}, 'right': {'type': 'leaf', 'class': 'Yes'}}}\n"
     ]
    }
   ],
   "source": [
    "decision_tree = build_tree(df, label_name='Loves Cool As Ice', max_depth=3)\n",
    "print(decision_tree)"
   ]
  },
  {
   "cell_type": "markdown",
   "metadata": {},
   "source": [
    "## Let's Build Our Tree!\n",
    "Time to create our decision tree and see what it looks like!"
   ]
  },
  {
   "cell_type": "code",
   "execution_count": null,
   "metadata": {
    "id": "BexAUwTXwMkw"
   },
   "outputs": [],
   "source": [
    "def predict(tree, sample):\n",
    "    if tree['type'] == 'leaf':\n",
    "        return tree['class']\n",
    "\n",
    "    feature = tree['feature']\n",
    "    value = tree['value']\n",
    "\n",
    "    # numeric feature\n",
    "    if isinstance(value, (int, float, np.float64)):\n",
    "        if sample[feature] <= value:\n",
    "            return predict(tree['left'], sample)\n",
    "        else:\n",
    "            return predict(tree['right'], sample)\n",
    "    else:  # categorical feature\n",
    "        if sample[feature] == value:\n",
    "            return predict(tree['left'], sample)\n",
    "        else:\n",
    "            return predict(tree['right'], sample)\n"
   ]
  },
  {
   "cell_type": "markdown",
   "metadata": {},
   "source": [
    "## Make Predictions\n",
    "This function follows the tree from top to bottom to predict new data!"
   ]
  },
  {
   "cell_type": "code",
   "execution_count": null,
   "metadata": {
    "colab": {
     "base_uri": "https://localhost:8080/"
    },
    "id": "qL1CqZyJxDWn",
    "outputId": "276f79be-e2cb-4bf4-b7e0-998164f47209"
   },
   "outputs": [
    {
     "name": "stdout",
     "output_type": "stream",
     "text": [
      "Predicted: Yes\n"
     ]
    }
   ],
   "source": [
    "test_sample = {\n",
    "    'Loves Popcorn': 'No',\n",
    "    'Loves Soda': 'Yes',\n",
    "    'Age': 20\n",
    "    }\n",
    "\n",
    "result = predict(decision_tree, test_sample)\n",
    "print(\"Predicted:\", result)\n"
   ]
  },
  {
   "cell_type": "markdown",
   "metadata": {},
   "source": [
    "## Test with Multiple People\n",
    "Let's try predicting for several different people to see how our tree works!"
   ]
  },
  {
   "cell_type": "code",
   "execution_count": null,
   "metadata": {},
   "outputs": [],
   "source": [
    "#now testing with different samples\n",
    "test_people = [\n",
    "    {'Loves Popcorn': 'Yes', 'Loves Soda': 'Yes', 'Age': 25},\n",
    "    {'Loves Popcorn': 'No', 'Loves Soda': 'No', 'Age': 60},\n",
    "    {'Loves Popcorn': 'Yes', 'Loves Soda': 'No', 'Age': 15},\n",
    "    {'Loves Popcorn': 'No', 'Loves Soda': 'Yes', 'Age': 40}\n",
    "]\n",
    "\n",
    "for i, person in enumerate(test_people, 1):\n",
    "    prediction = predict(decision_tree, person)\n",
    "    print(f\"Person {i}: {person} -> Prediction: {prediction}\")"
   ]
  },
  {
   "cell_type": "markdown",
   "metadata": {},
   "source": [
    "## Check Our Tree's Accuracy\n",
    "Let's see how well our tree predicts the original data!"
   ]
  },
  {
   "cell_type": "code",
   "execution_count": null,
   "metadata": {},
   "outputs": [],
   "source": [
    "# testing accuracy on original data\n",
    "correct_predictions = 0\n",
    "total_predictions = len(df)\n",
    "\n",
    "print(\"Testing on original data:\")\n",
    "for index, row in df.iterrows():\n",
    "    # converitng row to dict\n",
    "    sample = {\n",
    "        'Loves Popcorn': row['Loves Popcorn'],\n",
    "        'Loves Soda': row['Loves Soda'],\n",
    "        'Age': row['Age']\n",
    "    }\n",
    "    \n",
    "    predicted = predict(decision_tree, sample)\n",
    "    actual = row['Loves Cool As Ice']\n",
    "    \n",
    "    if predicted == actual:\n",
    "        correct_predictions += 1\n",
    "        result = \"✓ Correct\"\n",
    "    else:\n",
    "        result = \"✗ Wrong\"\n",
    "    \n",
    "    print(f\"Person {index+1}: Predicted {predicted}, Actual {actual} - {result}\")\n",
    "\n",
    "accuracy = (correct_predictions / total_predictions) * 100\n",
    "print(f\"\\nAccuracy: {correct_predictions}/{total_predictions} = {accuracy:.1f}%\")"
   ]
  },
  {
   "cell_type": "markdown",
   "metadata": {},
   "source": [
    "## Understanding Our Tree\n",
    "Let's create a simple function to visualize what questions our tree asks!"
   ]
  },
  {
   "cell_type": "code",
   "execution_count": null,
   "metadata": {},
   "outputs": [],
   "source": [
    "def print_tree(tree, depth=0):\n",
    "    \"\"\"Print the tree in an easy-to-read format\"\"\"\n",
    "    indent = \"  \" * depth\n",
    "    \n",
    "    if tree['type'] == 'leaf':\n",
    "        print(f\"{indent}→ Predict: {tree['class']}\")\n",
    "    else:\n",
    "        feature = tree['feature']\n",
    "        value = tree['value']\n",
    "        \n",
    "        if isinstance(value, (int, float)):\n",
    "            print(f\"{indent}Is {feature} <= {value}?\")\n",
    "            print(f\"{indent}├─ Yes:\")\n",
    "            print_tree(tree['left'], depth + 1)\n",
    "            print(f\"{indent}└─ No:\")\n",
    "            print_tree(tree['right'], depth + 1)\n",
    "        else:\n",
    "            print(f\"{indent}Is {feature} = {value}?\")\n",
    "            print(f\"{indent}├─ Yes:\")\n",
    "            print_tree(tree['left'], depth + 1)\n",
    "            print(f\"{indent}└─ No:\")\n",
    "            print_tree(tree['right'], depth + 1)\n",
    "\n",
    "print(\"Our Decision Tree Structure:\")\n",
    "print(\"=\" * 40)\n",
    "print_tree(decision_tree)"
   ]
  }
 ],
 "metadata": {
  "colab": {
   "provenance": [],
   "toc_visible": true
  },
  "kernelspec": {
   "display_name": "Python (AIML)",
   "language": "python",
   "name": "aiml"
  },
  "language_info": {
   "name": "python",
   "version": "3.12.10"
  }
 },
 "nbformat": 4,
 "nbformat_minor": 0
}
